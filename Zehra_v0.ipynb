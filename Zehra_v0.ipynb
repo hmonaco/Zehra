{
 "cells": [
  {
   "cell_type": "markdown",
   "metadata": {},
   "source": [
    "**Zehra Financial Services**\n",
    "\n",
    "_APPv_0_\n",
    "\n",
    "This app derive returns, std, betas and correlation matrix - it uses data since the start date (or the date of the newest asset).\n"
   ]
  },
  {
   "cell_type": "markdown",
   "metadata": {},
   "source": [
    "1. Choose the initial date for the analysis and the risk-free rate."
   ]
  },
  {
   "cell_type": "code",
   "execution_count": 6,
   "metadata": {},
   "outputs": [],
   "source": [
    "import numpy as np\n",
    "import pandas as pd\n",
    "import yfinance as yf\n",
    "import matplotlib.pyplot as plt\n",
    "import seaborn as sns\n",
    "import ipywidgets as widgets\n",
    "from ipywidgets import interact\n",
    "import datetime\n",
    "\n",
    "from pypfopt import EfficientFrontier\n",
    "from pypfopt import risk_models\n",
    "from pypfopt import expected_returns\n",
    "from pypfopt.discrete_allocation import DiscreteAllocation, get_latest_prices\n",
    "from pypfopt import risk_models, expected_returns, plotting\n",
    "from pypfopt import black_litterman, risk_models\n",
    "from pypfopt import EfficientFrontier, objective_functions\n",
    "from pypfopt import plotting\n",
    "from pypfopt import CLA"
   ]
  },
  {
   "cell_type": "code",
   "execution_count": 5,
   "metadata": {
    "scrolled": true
   },
   "outputs": [
    {
     "ename": "NameError",
     "evalue": "name 'style' is not defined",
     "output_type": "error",
     "traceback": [
      "\u001b[1;31m---------------------------------------------------------------------------\u001b[0m",
      "\u001b[1;31mNameError\u001b[0m                                 Traceback (most recent call last)",
      "\u001b[1;32m<ipython-input-5-92c32ea21a61>\u001b[0m in \u001b[0;36m<module>\u001b[1;34m\u001b[0m\n\u001b[0;32m     16\u001b[0m     \u001b[0mmax\u001b[0m\u001b[1;33m=\u001b[0m\u001b[1;36m0.1\u001b[0m\u001b[1;33m,\u001b[0m\u001b[1;33m\u001b[0m\u001b[1;33m\u001b[0m\u001b[0m\n\u001b[0;32m     17\u001b[0m     \u001b[0mstep\u001b[0m\u001b[1;33m=\u001b[0m\u001b[1;36m0.005\u001b[0m\u001b[1;33m,\u001b[0m\u001b[1;33m\u001b[0m\u001b[1;33m\u001b[0m\u001b[0m\n\u001b[1;32m---> 18\u001b[1;33m     \u001b[0mdescription\u001b[0m\u001b[1;33m=\u001b[0m\u001b[1;34m'Annual Risk Free Rate'\u001b[0m\u001b[1;33m,\u001b[0m\u001b[0mstyle\u001b[0m\u001b[1;33m=\u001b[0m\u001b[0mstyle\u001b[0m\u001b[1;33m,\u001b[0m\u001b[1;33m\u001b[0m\u001b[1;33m\u001b[0m\u001b[0m\n\u001b[0m\u001b[0;32m     19\u001b[0m     \u001b[0mdisabled\u001b[0m\u001b[1;33m=\u001b[0m\u001b[1;32mFalse\u001b[0m\u001b[1;33m,\u001b[0m\u001b[1;33m\u001b[0m\u001b[1;33m\u001b[0m\u001b[0m\n\u001b[0;32m     20\u001b[0m     \u001b[0mcontinuous_update\u001b[0m\u001b[1;33m=\u001b[0m\u001b[1;32mFalse\u001b[0m\u001b[1;33m,\u001b[0m\u001b[1;33m\u001b[0m\u001b[1;33m\u001b[0m\u001b[0m\n",
      "\u001b[1;31mNameError\u001b[0m: name 'style' is not defined"
     ]
    }
   ],
   "source": [
    "style = {'description_width': 'initial'}\n",
    "\n",
    "startdate=widgets.DatePicker(\n",
    "    description='Initial Date',\n",
    "    value=datetime.datetime(2000, 1, 1),\n",
    "    disabled=False\n",
    ")\n",
    "\n",
    "enddate=widgets.DatePicker(\n",
    "    description='End Date',\n",
    "    value=datetime.datetime.now(),\n",
    "    disabled=False\n",
    ")\n",
    "\n",
    "rf=widgets.FloatSlider(\n",
    "    value=0.03,\n",
    "    min=0,\n",
    "    max=0.1,\n",
    "    step=0.005,\n",
    "    description='Annual Risk Free Rate',style=style,\n",
    "    disabled=False,\n",
    "    continuous_update=False,\n",
    "    orientation='horizontal',\n",
    "    readout=True,\n",
    "    readout_format='.3f',\n",
    ")\n",
    "\n",
    "tickers=widgets.Text(\n",
    "    value='VFINX,VBMFX',\n",
    "    placeholder='Insert tickers separated by comma', style=style,\n",
    "    description='Assets (tickers):',\n",
    "    disabled=False\n",
    ")"
   ]
  },
  {
   "cell_type": "code",
   "execution_count": null,
   "metadata": {},
   "outputs": [],
   "source": [
    "def AssetPerformance(Ticker_list,start_date,end_date,risk_free):\n",
    "  #Alternative is get Yahoo Data now\n",
    "  dados_yahoo = yf.download(tickers=Ticker_list, start=start_date, end=end_date)['Adj Close']\n",
    "  dados_yahoo.dropna(inplace=True)\n",
    "  mkt = yf.download(tickers='^GSPC', start=dados_yahoo.index[0])['Adj Close']\n",
    "  mkt_return = (mkt[-1]/mkt[1])**(1/(len(mkt)-1))-1\n",
    "  mkt_annual_ret = (1+mkt_return)**(251)-1\n",
    "  mkt = pd.DataFrame(mkt)\n",
    "\n",
    "  dados_yahoo.dropna(inplace=True)\n",
    "\n",
    "  #analysis of data and parameters\n",
    "  df = pd.DataFrame(dados_yahoo)\n",
    "  returns = df.pct_change()\n",
    "  cor = returns.corr()\n",
    "\n",
    "  \"\"\" First analyse current portfolio \"\"\"\n",
    "  #Define which model to use for return andrisk\n",
    "  mu = expected_returns.mean_historical_return(df, compounding=True)\n",
    "\n",
    "  #Define which model to use to calculate the covariance matrix\n",
    "  S = risk_models.sample_cov(df)\n",
    "\n",
    "  #Portfolio assets parameters\n",
    "  assets = pd.DataFrame(columns=['Returns'])\n",
    "  assets['Returns'] = mu\n",
    "  assets['Risk (Std)'] = np.diag(S)**0.5\n",
    "  assets['Sharpe Ratio'] = (assets['Returns']-risk_free)/assets['Risk (Std)']\n",
    "\n",
    "  #Add betas\n",
    "  df1 = pd.DataFrame(df)\n",
    "  df1['SP500'] = mkt\n",
    "  Beta_S = risk_models.exp_cov(df1)\n",
    "  cov = Beta_S\n",
    "  betas = cov['SP500'] / cov.loc['SP500','SP500']\n",
    "  assets['Betas*'] = betas\n",
    " \n",
    "  #plot Correlation between assets\n",
    "  sns.set(rc={'figure.figsize':(11.7,8.27)})\n",
    "  cor_plot = sns.heatmap(cor, cmap=\"YlGnBu\",annot=True);\n",
    "\n",
    "  print('Analysis due to assets data availability starts at ' + str(df1.index[0]))\n",
    "  print()\n",
    "  return display(assets),cor_plot;"
   ]
  },
  {
   "cell_type": "code",
   "execution_count": null,
   "metadata": {},
   "outputs": [],
   "source": [
    "interact(AssetPerformance,Ticker_list=tickers,start_date=startdate,end_date=enddate,risk_free=rf)"
   ]
  }
 ],
 "metadata": {
  "kernelspec": {
   "display_name": "Python 3",
   "language": "python",
   "name": "python3"
  },
  "language_info": {
   "codemirror_mode": {
    "name": "ipython",
    "version": 3
   },
   "file_extension": ".py",
   "mimetype": "text/x-python",
   "name": "python",
   "nbconvert_exporter": "python",
   "pygments_lexer": "ipython3",
   "version": "3.7.6"
  }
 },
 "nbformat": 4,
 "nbformat_minor": 4
}
